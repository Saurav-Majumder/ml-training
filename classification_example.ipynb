{
 "cells": [
  {
   "cell_type": "markdown",
   "metadata": {},
   "source": [
    "# Classification\n",
    "The idea in this practice is to classify the sales by the DEALSIZE variable. It can take 3 values. Use different models and compare the results. Show the accuracy for each of the models and the first classified values. \n",
    "- Regression\n",
    "- KNN\n",
    "- SVM\n",
    "- Naive Bayes\n",
    "- Random Forest \n",
    "\n",
    "### Import data\n",
    "Firstly, import data \"dummies.csv\" using pandas. This data was processed in the data cleaning section."
   ]
  },
  {
   "cell_type": "code",
   "execution_count": 1,
   "metadata": {},
   "outputs": [],
   "source": [
    "import pandas as pd\n",
    "df = pd.read_csv(\"data/dummies.csv\", encoding = \"ISO-8859-1\")"
   ]
  },
  {
   "cell_type": "markdown",
   "metadata": {},
   "source": [
    "### Show data\n",
    "Now, show the columns for the loaded dataframe "
   ]
  },
  {
   "cell_type": "code",
   "execution_count": 2,
   "metadata": {},
   "outputs": [
    {
     "data": {
      "text/plain": [
       "Index(['PRICEEACH', 'SALES', 'MONTH_ID', 'YEAR_ID', 'PRODUCTLINE', 'DEALSIZE',\n",
       "       'STATE_', 'STATE_BC', 'STATE_CA', 'STATE_CT', 'STATE_Isle of Wight',\n",
       "       'STATE_MA', 'STATE_NH', 'STATE_NJ', 'STATE_NSW', 'STATE_NV', 'STATE_NY',\n",
       "       'STATE_Osaka', 'STATE_PA', 'STATE_Quebec', 'STATE_Queensland',\n",
       "       'STATE_Tokyo', 'STATE_Victoria', 'COUNTRY_Australia', 'COUNTRY_Austria',\n",
       "       'COUNTRY_Belgium', 'COUNTRY_Canada', 'COUNTRY_Denmark',\n",
       "       'COUNTRY_Finland', 'COUNTRY_France', 'COUNTRY_Germany',\n",
       "       'COUNTRY_Ireland', 'COUNTRY_Italy', 'COUNTRY_Japan', 'COUNTRY_Norway',\n",
       "       'COUNTRY_Philippines', 'COUNTRY_Singapore', 'COUNTRY_Spain',\n",
       "       'COUNTRY_Sweden', 'COUNTRY_Switzerland', 'COUNTRY_UK', 'COUNTRY_USA'],\n",
       "      dtype='object')"
      ]
     },
     "execution_count": 2,
     "metadata": {},
     "output_type": "execute_result"
    }
   ],
   "source": [
    "df.columns"
   ]
  },
  {
   "cell_type": "markdown",
   "metadata": {},
   "source": [
    "### Show values\n",
    "First show the first rows. Then, Show the possible values for the variable 'DEALSIZE'"
   ]
  },
  {
   "cell_type": "code",
   "execution_count": 3,
   "metadata": {
    "hide_input": true
   },
   "outputs": [
    {
     "name": "stdout",
     "output_type": "stream",
     "text": [
      "--------------------------\n",
      "--------First rows--------\n",
      "--------------------------\n",
      "   PRICEEACH    SALES  MONTH_ID  YEAR_ID  PRODUCTLINE  DEALSIZE  STATE_  \\\n",
      "0      95.70  2871.00         2     2003           -1         0       0   \n",
      "1      81.35  2765.90         5     2003           -1         0       1   \n",
      "2      94.74  3884.34         7     2003           -1         1       1   \n",
      "3      83.26  3746.70         8     2003           -1         1       0   \n",
      "4      96.66  3479.76        10     2003           -1         1       0   \n",
      "\n",
      "   STATE_BC  STATE_CA  STATE_CT  ...  COUNTRY_Italy  COUNTRY_Japan  \\\n",
      "0         0         0         0  ...              0              0   \n",
      "1         0         0         0  ...              0              0   \n",
      "2         0         0         0  ...              0              0   \n",
      "3         0         1         0  ...              0              0   \n",
      "4         0         1         0  ...              0              0   \n",
      "\n",
      "   COUNTRY_Norway  COUNTRY_Philippines  COUNTRY_Singapore  COUNTRY_Spain  \\\n",
      "0               0                    0                  0              0   \n",
      "1               0                    0                  0              0   \n",
      "2               0                    0                  0              0   \n",
      "3               0                    0                  0              0   \n",
      "4               0                    0                  0              0   \n",
      "\n",
      "   COUNTRY_Sweden  COUNTRY_Switzerland  COUNTRY_UK  COUNTRY_USA  \n",
      "0               0                    0           0            1  \n",
      "1               0                    0           0            0  \n",
      "2               0                    0           0            0  \n",
      "3               0                    0           0            1  \n",
      "4               0                    0           0            1  \n",
      "\n",
      "[5 rows x 42 columns]\n",
      "----------------------------------------\n",
      "--------DEALSIZE possible values--------\n",
      "----------------------------------------\n"
     ]
    },
    {
     "data": {
      "text/plain": [
       "[0, 1, 2]"
      ]
     },
     "execution_count": 3,
     "metadata": {},
     "output_type": "execute_result"
    }
   ],
   "source": [
    "print(\"--------------------------\")\n",
    "print(\"--------First rows--------\")\n",
    "print(\"--------------------------\")\n",
    "print(df.head())\n",
    "print(\"----------------------------------------\")\n",
    "print(\"--------DEALSIZE possible values--------\")\n",
    "print(\"----------------------------------------\")\n",
    "list(df['DEALSIZE'].unique())"
   ]
  },
  {
   "cell_type": "markdown",
   "metadata": {},
   "source": [
    "### Split into training and test sets\n",
    "We are going to split the dataset into training and test sets. With the training set the algorithm is going to learn and with the test set we are going to check how well the algorithm classifies new data.  \n",
    "This can be done by using a sklearn library called model_selection.\n",
    "Take into account that we want to predict DEALSIZE, so this variable is our target variable. "
   ]
  },
  {
   "cell_type": "code",
   "execution_count": 4,
   "metadata": {},
   "outputs": [],
   "source": [
    "#split the dataframe: X - predictors and y - target\n",
    "X = df.drop('DEALSIZE', axis=1)\n",
    "y = df['DEALSIZE']\n",
    "\n",
    "#split dataset into test/train \n",
    "from sklearn import model_selection\n",
    "X_train, X_test, y_train, y_test = model_selection.train_test_split(X, y, test_size=0.20, random_state=20)"
   ]
  },
  {
   "cell_type": "markdown",
   "metadata": {},
   "source": [
    "## Run a classifier!\n",
    "We are going to use different methods for classification to see how it look like each case. \n",
    "We can see that there are several parameters that can be set to tune the model. You can play with that and study what is the meaning for each case, and keep some idea about how to tune the model. In this example, as it is very simple we do not need to worry about the tuning and we are not searching for a better performance. "
   ]
  },
  {
   "cell_type": "markdown",
   "metadata": {},
   "source": [
    "### Ridge Classifier\n",
    "RidgeClassifier uses a Ridge Regression to predict the classification. You can use the RidgeClassifier from sklearn.\n",
    "\n",
    "If you want to understand how it works look at this link: https://towardsdatascience.com/ridge-regression-for-better-usage-2f19b3a202db."
   ]
  },
  {
   "cell_type": "code",
   "execution_count": 5,
   "metadata": {},
   "outputs": [
    {
     "name": "stdout",
     "output_type": "stream",
     "text": [
      "0.8127272727272727\n"
     ]
    },
    {
     "data": {
      "text/html": [
       "<div>\n",
       "<style scoped>\n",
       "    .dataframe tbody tr th:only-of-type {\n",
       "        vertical-align: middle;\n",
       "    }\n",
       "\n",
       "    .dataframe tbody tr th {\n",
       "        vertical-align: top;\n",
       "    }\n",
       "\n",
       "    .dataframe thead th {\n",
       "        text-align: right;\n",
       "    }\n",
       "</style>\n",
       "<table border=\"1\" class=\"dataframe\">\n",
       "  <thead>\n",
       "    <tr style=\"text-align: right;\">\n",
       "      <th></th>\n",
       "      <th>Actual</th>\n",
       "      <th>Predicted</th>\n",
       "    </tr>\n",
       "  </thead>\n",
       "  <tbody>\n",
       "    <tr>\n",
       "      <th>766</th>\n",
       "      <td>0</td>\n",
       "      <td>0</td>\n",
       "    </tr>\n",
       "    <tr>\n",
       "      <th>1050</th>\n",
       "      <td>1</td>\n",
       "      <td>0</td>\n",
       "    </tr>\n",
       "    <tr>\n",
       "      <th>255</th>\n",
       "      <td>1</td>\n",
       "      <td>1</td>\n",
       "    </tr>\n",
       "    <tr>\n",
       "      <th>826</th>\n",
       "      <td>1</td>\n",
       "      <td>1</td>\n",
       "    </tr>\n",
       "    <tr>\n",
       "      <th>1730</th>\n",
       "      <td>0</td>\n",
       "      <td>0</td>\n",
       "    </tr>\n",
       "  </tbody>\n",
       "</table>\n",
       "</div>"
      ],
      "text/plain": [
       "      Actual  Predicted\n",
       "766        0          0\n",
       "1050       1          0\n",
       "255        1          1\n",
       "826        1          1\n",
       "1730       0          0"
      ]
     },
     "execution_count": 5,
     "metadata": {},
     "output_type": "execute_result"
    }
   ],
   "source": [
    "from sklearn.linear_model import RidgeClassifier\n",
    "clf = RidgeClassifier().fit(X_train, y_train)\n",
    "clf.fit(X_train, y_train)\n",
    "predictions = clf.predict(X_test)\n",
    "print(clf.score(X_test, y_test))\n",
    "df_p = pd.DataFrame()\n",
    "df_p['Actual'] = y_test\n",
    "df_p['Predicted'] = predictions\n",
    "df_p.head()"
   ]
  },
  {
   "cell_type": "markdown",
   "metadata": {},
   "source": [
    "Show the confusion matrix"
   ]
  },
  {
   "cell_type": "code",
   "execution_count": 6,
   "metadata": {},
   "outputs": [
    {
     "data": {
      "text/plain": [
       "array([[205,  38,   0],\n",
       "       [ 35, 242,   0],\n",
       "       [  0,  30,   0]])"
      ]
     },
     "execution_count": 6,
     "metadata": {},
     "output_type": "execute_result"
    }
   ],
   "source": [
    "from sklearn.metrics import confusion_matrix\n",
    "m = confusion_matrix(y_test, predictions)\n",
    "m"
   ]
  },
  {
   "cell_type": "code",
   "execution_count": 7,
   "metadata": {},
   "outputs": [
    {
     "data": {
      "text/plain": [
       "<Figure size 1000x700 with 2 Axes>"
      ]
     },
     "metadata": {},
     "output_type": "display_data"
    }
   ],
   "source": [
    "import seaborn as sn\n",
    "import pandas as pd\n",
    "import matplotlib.pyplot as plt\n",
    "import numpy as np\n",
    "df_cm = pd.DataFrame(m, columns=np.unique(y_test), index = np.unique(y_test))\n",
    "df_cm.index.name = 'Actual'\n",
    "df_cm.columns.name = 'Predicted'\n",
    "plt.figure(figsize = (10,7))\n",
    "sn.set(font_scale=1.4)#for label size\n",
    "sn.heatmap(df_cm, cmap=\"Blues\", annot=True,annot_kws={\"size\": 16}, fmt=\"d\")# font size\n",
    "plt.show()"
   ]
  },
  {
   "cell_type": "markdown",
   "metadata": {},
   "source": [
    "### KNN Classifier\n",
    "This classifier is based on the distance between data points.   \n",
    "It groups into K neighbors which are nearby and a class is assigned to each group. \n",
    "New data is classified measuring the distance to the groups, and assigned the nearest class.\n",
    "You can use the KNeighborsClassifier from sklearn. "
   ]
  },
  {
   "cell_type": "code",
   "execution_count": 8,
   "metadata": {},
   "outputs": [
    {
     "name": "stdout",
     "output_type": "stream",
     "text": [
      "1.0\n"
     ]
    },
    {
     "data": {
      "text/html": [
       "<div>\n",
       "<style scoped>\n",
       "    .dataframe tbody tr th:only-of-type {\n",
       "        vertical-align: middle;\n",
       "    }\n",
       "\n",
       "    .dataframe tbody tr th {\n",
       "        vertical-align: top;\n",
       "    }\n",
       "\n",
       "    .dataframe thead th {\n",
       "        text-align: right;\n",
       "    }\n",
       "</style>\n",
       "<table border=\"1\" class=\"dataframe\">\n",
       "  <thead>\n",
       "    <tr style=\"text-align: right;\">\n",
       "      <th></th>\n",
       "      <th>Actual</th>\n",
       "      <th>Predicted</th>\n",
       "    </tr>\n",
       "  </thead>\n",
       "  <tbody>\n",
       "    <tr>\n",
       "      <th>766</th>\n",
       "      <td>0</td>\n",
       "      <td>0</td>\n",
       "    </tr>\n",
       "    <tr>\n",
       "      <th>1050</th>\n",
       "      <td>1</td>\n",
       "      <td>1</td>\n",
       "    </tr>\n",
       "    <tr>\n",
       "      <th>255</th>\n",
       "      <td>1</td>\n",
       "      <td>1</td>\n",
       "    </tr>\n",
       "    <tr>\n",
       "      <th>826</th>\n",
       "      <td>1</td>\n",
       "      <td>1</td>\n",
       "    </tr>\n",
       "    <tr>\n",
       "      <th>1730</th>\n",
       "      <td>0</td>\n",
       "      <td>0</td>\n",
       "    </tr>\n",
       "  </tbody>\n",
       "</table>\n",
       "</div>"
      ],
      "text/plain": [
       "      Actual  Predicted\n",
       "766        0          0\n",
       "1050       1          1\n",
       "255        1          1\n",
       "826        1          1\n",
       "1730       0          0"
      ]
     },
     "execution_count": 8,
     "metadata": {},
     "output_type": "execute_result"
    }
   ],
   "source": [
    "#KNN example\n",
    "from sklearn.neighbors import KNeighborsClassifier\n",
    "knn = KNeighborsClassifier(n_neighbors=3)\n",
    "knn.fit(X_train, y_train)\n",
    "print(knn.score(X_test, y_test))\n",
    "predictions = knn.predict(X_test)\n",
    "df_p = pd.DataFrame()\n",
    "df_p['Actual'] = y_test\n",
    "df_p['Predicted'] = predictions\n",
    "df_p.head()"
   ]
  },
  {
   "cell_type": "markdown",
   "metadata": {},
   "source": [
    "### SVC classifier\n",
    "Support-vector machine represents points in the space, where different classes are divided by a gap in the space.  \n",
    "New data is mapped in the space and it chooses in which class is contained by looking at the gap between the classes.  \n",
    "You can use SVC from sklearn. \n"
   ]
  },
  {
   "cell_type": "code",
   "execution_count": 9,
   "metadata": {},
   "outputs": [
    {
     "name": "stdout",
     "output_type": "stream",
     "text": [
      "Score: 1.0\n"
     ]
    },
    {
     "data": {
      "text/html": [
       "<div>\n",
       "<style scoped>\n",
       "    .dataframe tbody tr th:only-of-type {\n",
       "        vertical-align: middle;\n",
       "    }\n",
       "\n",
       "    .dataframe tbody tr th {\n",
       "        vertical-align: top;\n",
       "    }\n",
       "\n",
       "    .dataframe thead th {\n",
       "        text-align: right;\n",
       "    }\n",
       "</style>\n",
       "<table border=\"1\" class=\"dataframe\">\n",
       "  <thead>\n",
       "    <tr style=\"text-align: right;\">\n",
       "      <th></th>\n",
       "      <th>PRICEEACH</th>\n",
       "      <th>SALES</th>\n",
       "      <th>MONTH_ID</th>\n",
       "      <th>YEAR_ID</th>\n",
       "      <th>PRODUCTLINE</th>\n",
       "      <th>DEALSIZE</th>\n",
       "      <th>STATE_</th>\n",
       "      <th>STATE_BC</th>\n",
       "      <th>STATE_CA</th>\n",
       "      <th>STATE_CT</th>\n",
       "      <th>...</th>\n",
       "      <th>COUNTRY_Italy</th>\n",
       "      <th>COUNTRY_Japan</th>\n",
       "      <th>COUNTRY_Norway</th>\n",
       "      <th>COUNTRY_Philippines</th>\n",
       "      <th>COUNTRY_Singapore</th>\n",
       "      <th>COUNTRY_Spain</th>\n",
       "      <th>COUNTRY_Sweden</th>\n",
       "      <th>COUNTRY_Switzerland</th>\n",
       "      <th>COUNTRY_UK</th>\n",
       "      <th>COUNTRY_USA</th>\n",
       "    </tr>\n",
       "  </thead>\n",
       "  <tbody>\n",
       "    <tr>\n",
       "      <th>0</th>\n",
       "      <td>95.70</td>\n",
       "      <td>2871.00</td>\n",
       "      <td>2</td>\n",
       "      <td>2003</td>\n",
       "      <td>-1</td>\n",
       "      <td>0</td>\n",
       "      <td>0</td>\n",
       "      <td>0</td>\n",
       "      <td>0</td>\n",
       "      <td>0</td>\n",
       "      <td>...</td>\n",
       "      <td>0</td>\n",
       "      <td>0</td>\n",
       "      <td>0</td>\n",
       "      <td>0</td>\n",
       "      <td>0</td>\n",
       "      <td>0</td>\n",
       "      <td>0</td>\n",
       "      <td>0</td>\n",
       "      <td>0</td>\n",
       "      <td>1</td>\n",
       "    </tr>\n",
       "    <tr>\n",
       "      <th>1</th>\n",
       "      <td>81.35</td>\n",
       "      <td>2765.90</td>\n",
       "      <td>5</td>\n",
       "      <td>2003</td>\n",
       "      <td>-1</td>\n",
       "      <td>0</td>\n",
       "      <td>1</td>\n",
       "      <td>0</td>\n",
       "      <td>0</td>\n",
       "      <td>0</td>\n",
       "      <td>...</td>\n",
       "      <td>0</td>\n",
       "      <td>0</td>\n",
       "      <td>0</td>\n",
       "      <td>0</td>\n",
       "      <td>0</td>\n",
       "      <td>0</td>\n",
       "      <td>0</td>\n",
       "      <td>0</td>\n",
       "      <td>0</td>\n",
       "      <td>0</td>\n",
       "    </tr>\n",
       "    <tr>\n",
       "      <th>2</th>\n",
       "      <td>94.74</td>\n",
       "      <td>3884.34</td>\n",
       "      <td>7</td>\n",
       "      <td>2003</td>\n",
       "      <td>-1</td>\n",
       "      <td>1</td>\n",
       "      <td>1</td>\n",
       "      <td>0</td>\n",
       "      <td>0</td>\n",
       "      <td>0</td>\n",
       "      <td>...</td>\n",
       "      <td>0</td>\n",
       "      <td>0</td>\n",
       "      <td>0</td>\n",
       "      <td>0</td>\n",
       "      <td>0</td>\n",
       "      <td>0</td>\n",
       "      <td>0</td>\n",
       "      <td>0</td>\n",
       "      <td>0</td>\n",
       "      <td>0</td>\n",
       "    </tr>\n",
       "    <tr>\n",
       "      <th>3</th>\n",
       "      <td>83.26</td>\n",
       "      <td>3746.70</td>\n",
       "      <td>8</td>\n",
       "      <td>2003</td>\n",
       "      <td>-1</td>\n",
       "      <td>1</td>\n",
       "      <td>0</td>\n",
       "      <td>0</td>\n",
       "      <td>1</td>\n",
       "      <td>0</td>\n",
       "      <td>...</td>\n",
       "      <td>0</td>\n",
       "      <td>0</td>\n",
       "      <td>0</td>\n",
       "      <td>0</td>\n",
       "      <td>0</td>\n",
       "      <td>0</td>\n",
       "      <td>0</td>\n",
       "      <td>0</td>\n",
       "      <td>0</td>\n",
       "      <td>1</td>\n",
       "    </tr>\n",
       "    <tr>\n",
       "      <th>4</th>\n",
       "      <td>96.66</td>\n",
       "      <td>3479.76</td>\n",
       "      <td>10</td>\n",
       "      <td>2003</td>\n",
       "      <td>-1</td>\n",
       "      <td>1</td>\n",
       "      <td>0</td>\n",
       "      <td>0</td>\n",
       "      <td>1</td>\n",
       "      <td>0</td>\n",
       "      <td>...</td>\n",
       "      <td>0</td>\n",
       "      <td>0</td>\n",
       "      <td>0</td>\n",
       "      <td>0</td>\n",
       "      <td>0</td>\n",
       "      <td>0</td>\n",
       "      <td>0</td>\n",
       "      <td>0</td>\n",
       "      <td>0</td>\n",
       "      <td>1</td>\n",
       "    </tr>\n",
       "  </tbody>\n",
       "</table>\n",
       "<p>5 rows × 42 columns</p>\n",
       "</div>"
      ],
      "text/plain": [
       "   PRICEEACH    SALES  MONTH_ID  YEAR_ID  PRODUCTLINE  DEALSIZE  STATE_  \\\n",
       "0      95.70  2871.00         2     2003           -1         0       0   \n",
       "1      81.35  2765.90         5     2003           -1         0       1   \n",
       "2      94.74  3884.34         7     2003           -1         1       1   \n",
       "3      83.26  3746.70         8     2003           -1         1       0   \n",
       "4      96.66  3479.76        10     2003           -1         1       0   \n",
       "\n",
       "   STATE_BC  STATE_CA  STATE_CT  ...  COUNTRY_Italy  COUNTRY_Japan  \\\n",
       "0         0         0         0  ...              0              0   \n",
       "1         0         0         0  ...              0              0   \n",
       "2         0         0         0  ...              0              0   \n",
       "3         0         1         0  ...              0              0   \n",
       "4         0         1         0  ...              0              0   \n",
       "\n",
       "   COUNTRY_Norway  COUNTRY_Philippines  COUNTRY_Singapore  COUNTRY_Spain  \\\n",
       "0               0                    0                  0              0   \n",
       "1               0                    0                  0              0   \n",
       "2               0                    0                  0              0   \n",
       "3               0                    0                  0              0   \n",
       "4               0                    0                  0              0   \n",
       "\n",
       "   COUNTRY_Sweden  COUNTRY_Switzerland  COUNTRY_UK  COUNTRY_USA  \n",
       "0               0                    0           0            1  \n",
       "1               0                    0           0            0  \n",
       "2               0                    0           0            0  \n",
       "3               0                    0           0            1  \n",
       "4               0                    0           0            1  \n",
       "\n",
       "[5 rows x 42 columns]"
      ]
     },
     "execution_count": 9,
     "metadata": {},
     "output_type": "execute_result"
    }
   ],
   "source": [
    "from sklearn import svm\n",
    "clf = svm.SVC()\n",
    "clf.fit(X_train, y_train)\n",
    "score = clf.score(X_test,y_test)\n",
    "print('Score:', score)\n",
    "predictions = clf.predict(X_test)\n",
    "df_p = pd.DataFrame()\n",
    "df_p['Actual'] = y_test\n",
    "df_p['Predicted'] = predictions\n",
    "df.head()"
   ]
  },
  {
   "cell_type": "markdown",
   "metadata": {},
   "source": [
    "### Naive Bayes\n",
    "It is based on Bayes’ Theorem and assumes that features are independent with each other. In this link you can find more information https://towardsdatascience.com/naive-bayes-classifier-81d512f50a7c  \n",
    "You can use GaussianNB from sklearn. "
   ]
  },
  {
   "cell_type": "code",
   "execution_count": 10,
   "metadata": {},
   "outputs": [
    {
     "name": "stdout",
     "output_type": "stream",
     "text": [
      "0.6818181818181818\n",
      "Number of mislabeled points out of a total 550 points : 175\n"
     ]
    }
   ],
   "source": [
    "from sklearn.naive_bayes import GaussianNB\n",
    "gnb = GaussianNB()\n",
    "predictions = gnb.fit(X_train, y_train).predict(X_test)\n",
    "print(gnb.score(X_test,y_test))\n",
    "print(\"Number of mislabeled points out of a total %d points : %d\" % (X_test.shape[0], (y_test != predictions).sum()))"
   ]
  },
  {
   "cell_type": "markdown",
   "metadata": {},
   "source": [
    "### Random Forest\n",
    "A random forest is an ensemble of different trees which are composed at the end to get the final result. You can use RandomForestClassifier from sklearn. "
   ]
  },
  {
   "cell_type": "code",
   "execution_count": 11,
   "metadata": {},
   "outputs": [
    {
     "name": "stdout",
     "output_type": "stream",
     "text": [
      "Score: 0.9454545454545454\n"
     ]
    },
    {
     "data": {
      "text/html": [
       "<div>\n",
       "<style scoped>\n",
       "    .dataframe tbody tr th:only-of-type {\n",
       "        vertical-align: middle;\n",
       "    }\n",
       "\n",
       "    .dataframe tbody tr th {\n",
       "        vertical-align: top;\n",
       "    }\n",
       "\n",
       "    .dataframe thead th {\n",
       "        text-align: right;\n",
       "    }\n",
       "</style>\n",
       "<table border=\"1\" class=\"dataframe\">\n",
       "  <thead>\n",
       "    <tr style=\"text-align: right;\">\n",
       "      <th></th>\n",
       "      <th>Actual</th>\n",
       "      <th>Predicted</th>\n",
       "    </tr>\n",
       "  </thead>\n",
       "  <tbody>\n",
       "    <tr>\n",
       "      <th>766</th>\n",
       "      <td>0</td>\n",
       "      <td>0</td>\n",
       "    </tr>\n",
       "    <tr>\n",
       "      <th>1050</th>\n",
       "      <td>1</td>\n",
       "      <td>1</td>\n",
       "    </tr>\n",
       "    <tr>\n",
       "      <th>255</th>\n",
       "      <td>1</td>\n",
       "      <td>1</td>\n",
       "    </tr>\n",
       "    <tr>\n",
       "      <th>826</th>\n",
       "      <td>1</td>\n",
       "      <td>1</td>\n",
       "    </tr>\n",
       "    <tr>\n",
       "      <th>1730</th>\n",
       "      <td>0</td>\n",
       "      <td>0</td>\n",
       "    </tr>\n",
       "  </tbody>\n",
       "</table>\n",
       "</div>"
      ],
      "text/plain": [
       "      Actual  Predicted\n",
       "766        0          0\n",
       "1050       1          1\n",
       "255        1          1\n",
       "826        1          1\n",
       "1730       0          0"
      ]
     },
     "execution_count": 11,
     "metadata": {},
     "output_type": "execute_result"
    }
   ],
   "source": [
    "from sklearn.ensemble import RandomForestClassifier\n",
    "clf = RandomForestClassifier(max_depth=2,random_state=202)\n",
    "clf.fit(X_train, y_train)\n",
    "print('Score:',clf.score(X_test, y_test))\n",
    "predictions = clf.predict(X_test)\n",
    "df_p = pd.DataFrame()\n",
    "df_p['Actual'] = y_test\n",
    "df_p['Predicted'] = predictions\n",
    "df_p.head()"
   ]
  },
  {
   "cell_type": "markdown",
   "metadata": {},
   "source": [
    "Show the variables' importance in a graph, you can create a dataframe with clf.feature_importances_ and plot it"
   ]
  },
  {
   "cell_type": "code",
   "execution_count": 12,
   "metadata": {},
   "outputs": [
    {
     "data": {
      "image/png": "[encoded data removed]",
      "text/plain": [
       "<Figure size 1080x1080 with 1 Axes>"
      ]
     },
     "metadata": {
      "needs_background": "light"
     },
     "output_type": "display_data"
    }
   ],
   "source": [
    "import matplotlib.pyplot as plt\n",
    "feat_importances = pd.Series(clf.feature_importances_, index=X.columns)\n",
    "fig, ax = plt.subplots(1,1, figsize=(15, 15))\n",
    "feat_importances.plot(kind='barh', ax=ax)\n",
    "plt.show()"
   ]
  }
 ],
 "metadata": {
  "celltoolbar": "Raw Cell Format",
  "hide_input": false,
  "kernelspec": {
   "display_name": "Python 3",
   "language": "python",
   "name": "python3"
  },
  "language_info": {
   "codemirror_mode": {
    "name": "ipython",
    "version": 3
   },
   "file_extension": ".py",
   "mimetype": "text/x-python",
   "name": "python",
   "nbconvert_exporter": "python",
   "pygments_lexer": "ipython3",
   "version": "3.6.9"
  },
  "toc": {
   "base_numbering": 1,
   "nav_menu": {},
   "number_sections": true,
   "sideBar": true,
   "skip_h1_title": false,
   "title_cell": "Table of Contents",
   "title_sidebar": "Contents",
   "toc_cell": false,
   "toc_position": {},
   "toc_section_display": true,
   "toc_window_display": true
  },
  "widgets": {
   "application/vnd.jupyter.widget-state+json": {
    "state": {},
    "version_major": 2,
    "version_minor": 0
   }
  }
 },
 "nbformat": 4,
 "nbformat_minor": 2
}
