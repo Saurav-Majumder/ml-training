{
 "cells": [
  {
   "cell_type": "markdown",
   "metadata": {},
   "source": [
    "# Scale data \n",
    "It is important to scale the data when we have different range of values for our variables. \n",
    "If you have to scale the data that is going to be input for your model, it is recommended to follow these two options: \n",
    "1- Use two different instances of a scaler, one for the target variable and another for the predictors variables\n",
    "2- Only scale the predictors variables   \n",
    "\n",
    "**Why?**  \n",
    "Becuase when you want to interpret the error, you might need to return the values to the original scale. So, you would be only interested in doing the inverse scale only for the target variable. If the instance of the scaler to scale the input of the model was over all the variables, you would need to do inverse process over all the variables when you only need the target variable. This not only might confuse you, but also takes more computational time. On the other hand, if you use a different instance for scaling the target and the predictors. You can only use the scaler instance of the target to do the inverse maths over the predicted values. \n",
    "\n",
    "Here there is an example using the librar sklearn to show the usage of the scaler. And how to do the inverse calculation, once you have the results from the model. \n",
    "\n",
    "You can find the data [here](https://www.kaggle.com/mukuljh2/car-insurance-claim)\n"
   ]
  },
  {
   "cell_type": "code",
   "execution_count": 1,
   "metadata": {},
   "outputs": [
    {
     "data": {
      "text/html": [
       "<div>\n",
       "<style scoped>\n",
       "    .dataframe tbody tr th:only-of-type {\n",
       "        vertical-align: middle;\n",
       "    }\n",
       "\n",
       "    .dataframe tbody tr th {\n",
       "        vertical-align: top;\n",
       "    }\n",
       "\n",
       "    .dataframe thead th {\n",
       "        text-align: right;\n",
       "    }\n",
       "</style>\n",
       "<table border=\"1\" class=\"dataframe\">\n",
       "  <thead>\n",
       "    <tr style=\"text-align: right;\">\n",
       "      <th></th>\n",
       "      <th>ID</th>\n",
       "      <th>KIDSDRIV</th>\n",
       "      <th>AGE</th>\n",
       "      <th>HOMEKIDS</th>\n",
       "      <th>YOJ</th>\n",
       "      <th>TRAVTIME</th>\n",
       "      <th>TIF</th>\n",
       "      <th>CLM_FREQ</th>\n",
       "      <th>MVR_PTS</th>\n",
       "      <th>CAR_AGE</th>\n",
       "      <th>CLAIM_FLAG</th>\n",
       "    </tr>\n",
       "  </thead>\n",
       "  <tbody>\n",
       "    <tr>\n",
       "      <th>count</th>\n",
       "      <td>1.030200e+04</td>\n",
       "      <td>10302.000000</td>\n",
       "      <td>10295.000000</td>\n",
       "      <td>10302.000000</td>\n",
       "      <td>9754.000000</td>\n",
       "      <td>10302.000000</td>\n",
       "      <td>10302.000000</td>\n",
       "      <td>10302.000000</td>\n",
       "      <td>10302.000000</td>\n",
       "      <td>9663.000000</td>\n",
       "      <td>10302.000000</td>\n",
       "    </tr>\n",
       "    <tr>\n",
       "      <th>mean</th>\n",
       "      <td>4.956631e+08</td>\n",
       "      <td>0.169288</td>\n",
       "      <td>44.837397</td>\n",
       "      <td>0.720443</td>\n",
       "      <td>10.474062</td>\n",
       "      <td>33.416424</td>\n",
       "      <td>5.329159</td>\n",
       "      <td>0.800718</td>\n",
       "      <td>1.710153</td>\n",
       "      <td>8.298148</td>\n",
       "      <td>0.266550</td>\n",
       "    </tr>\n",
       "    <tr>\n",
       "      <th>std</th>\n",
       "      <td>2.864675e+08</td>\n",
       "      <td>0.506512</td>\n",
       "      <td>8.606445</td>\n",
       "      <td>1.116323</td>\n",
       "      <td>4.108943</td>\n",
       "      <td>15.869687</td>\n",
       "      <td>4.110795</td>\n",
       "      <td>1.154079</td>\n",
       "      <td>2.159015</td>\n",
       "      <td>5.714450</td>\n",
       "      <td>0.442177</td>\n",
       "    </tr>\n",
       "    <tr>\n",
       "      <th>min</th>\n",
       "      <td>6.317500e+04</td>\n",
       "      <td>0.000000</td>\n",
       "      <td>16.000000</td>\n",
       "      <td>0.000000</td>\n",
       "      <td>0.000000</td>\n",
       "      <td>5.000000</td>\n",
       "      <td>1.000000</td>\n",
       "      <td>0.000000</td>\n",
       "      <td>0.000000</td>\n",
       "      <td>-3.000000</td>\n",
       "      <td>0.000000</td>\n",
       "    </tr>\n",
       "    <tr>\n",
       "      <th>25%</th>\n",
       "      <td>2.442869e+08</td>\n",
       "      <td>0.000000</td>\n",
       "      <td>39.000000</td>\n",
       "      <td>0.000000</td>\n",
       "      <td>9.000000</td>\n",
       "      <td>22.000000</td>\n",
       "      <td>1.000000</td>\n",
       "      <td>0.000000</td>\n",
       "      <td>0.000000</td>\n",
       "      <td>1.000000</td>\n",
       "      <td>0.000000</td>\n",
       "    </tr>\n",
       "    <tr>\n",
       "      <th>50%</th>\n",
       "      <td>4.970043e+08</td>\n",
       "      <td>0.000000</td>\n",
       "      <td>45.000000</td>\n",
       "      <td>0.000000</td>\n",
       "      <td>11.000000</td>\n",
       "      <td>33.000000</td>\n",
       "      <td>4.000000</td>\n",
       "      <td>0.000000</td>\n",
       "      <td>1.000000</td>\n",
       "      <td>8.000000</td>\n",
       "      <td>0.000000</td>\n",
       "    </tr>\n",
       "    <tr>\n",
       "      <th>75%</th>\n",
       "      <td>7.394551e+08</td>\n",
       "      <td>0.000000</td>\n",
       "      <td>51.000000</td>\n",
       "      <td>1.000000</td>\n",
       "      <td>13.000000</td>\n",
       "      <td>44.000000</td>\n",
       "      <td>7.000000</td>\n",
       "      <td>2.000000</td>\n",
       "      <td>3.000000</td>\n",
       "      <td>12.000000</td>\n",
       "      <td>1.000000</td>\n",
       "    </tr>\n",
       "    <tr>\n",
       "      <th>max</th>\n",
       "      <td>9.999264e+08</td>\n",
       "      <td>4.000000</td>\n",
       "      <td>81.000000</td>\n",
       "      <td>5.000000</td>\n",
       "      <td>23.000000</td>\n",
       "      <td>142.000000</td>\n",
       "      <td>25.000000</td>\n",
       "      <td>5.000000</td>\n",
       "      <td>13.000000</td>\n",
       "      <td>28.000000</td>\n",
       "      <td>1.000000</td>\n",
       "    </tr>\n",
       "  </tbody>\n",
       "</table>\n",
       "</div>"
      ],
      "text/plain": [
       "                 ID      KIDSDRIV           AGE      HOMEKIDS          YOJ  \\\n",
       "count  1.030200e+04  10302.000000  10295.000000  10302.000000  9754.000000   \n",
       "mean   4.956631e+08      0.169288     44.837397      0.720443    10.474062   \n",
       "std    2.864675e+08      0.506512      8.606445      1.116323     4.108943   \n",
       "min    6.317500e+04      0.000000     16.000000      0.000000     0.000000   \n",
       "25%    2.442869e+08      0.000000     39.000000      0.000000     9.000000   \n",
       "50%    4.970043e+08      0.000000     45.000000      0.000000    11.000000   \n",
       "75%    7.394551e+08      0.000000     51.000000      1.000000    13.000000   \n",
       "max    9.999264e+08      4.000000     81.000000      5.000000    23.000000   \n",
       "\n",
       "           TRAVTIME           TIF      CLM_FREQ       MVR_PTS      CAR_AGE  \\\n",
       "count  10302.000000  10302.000000  10302.000000  10302.000000  9663.000000   \n",
       "mean      33.416424      5.329159      0.800718      1.710153     8.298148   \n",
       "std       15.869687      4.110795      1.154079      2.159015     5.714450   \n",
       "min        5.000000      1.000000      0.000000      0.000000    -3.000000   \n",
       "25%       22.000000      1.000000      0.000000      0.000000     1.000000   \n",
       "50%       33.000000      4.000000      0.000000      1.000000     8.000000   \n",
       "75%       44.000000      7.000000      2.000000      3.000000    12.000000   \n",
       "max      142.000000     25.000000      5.000000     13.000000    28.000000   \n",
       "\n",
       "         CLAIM_FLAG  \n",
       "count  10302.000000  \n",
       "mean       0.266550  \n",
       "std        0.442177  \n",
       "min        0.000000  \n",
       "25%        0.000000  \n",
       "50%        0.000000  \n",
       "75%        1.000000  \n",
       "max        1.000000  "
      ]
     },
     "execution_count": 1,
     "metadata": {},
     "output_type": "execute_result"
    }
   ],
   "source": [
    "from sklearn.datasets import load_iris\n",
    "import pandas as pd\n",
    "df = pd.read_csv(\"data/car.csv\")\n",
    "df.describe()"
   ]
  },
  {
   "cell_type": "markdown",
   "metadata": {},
   "source": [
    "Show the values"
   ]
  },
  {
   "cell_type": "code",
   "execution_count": 2,
   "metadata": {},
   "outputs": [
    {
     "data": {
      "text/plain": [
       "Index(['ID', 'KIDSDRIV', 'AGE', 'HOMEKIDS', 'YOJ', 'INCOME', 'PARENT1',\n",
       "       'HOME_VAL', 'MSTATUS', 'GENDER', 'EDUCATION', 'OCCUPATION', 'TRAVTIME',\n",
       "       'CAR_USE', 'BLUEBOOK', 'TIF', 'CAR_TYPE', 'RED_CAR', 'OLDCLAIM',\n",
       "       'CLM_FREQ', 'REVOKED', 'MVR_PTS', 'CLM_AMT', 'CAR_AGE', 'CLAIM_FLAG'],\n",
       "      dtype='object')"
      ]
     },
     "execution_count": 2,
     "metadata": {},
     "output_type": "execute_result"
    }
   ],
   "source": [
    "df.columns"
   ]
  },
  {
   "cell_type": "code",
   "execution_count": 3,
   "metadata": {},
   "outputs": [
    {
     "data": {
      "text/plain": [
       "array(['Private', 'Commercial'], dtype=object)"
      ]
     },
     "execution_count": 3,
     "metadata": {},
     "output_type": "execute_result"
    }
   ],
   "source": [
    "df['CAR_USE'].unique()"
   ]
  },
  {
   "cell_type": "markdown",
   "metadata": {},
   "source": [
    "Drop NAs and ID column"
   ]
  },
  {
   "cell_type": "code",
   "execution_count": 4,
   "metadata": {},
   "outputs": [
    {
     "data": {
      "text/html": [
       "<div>\n",
       "<style scoped>\n",
       "    .dataframe tbody tr th:only-of-type {\n",
       "        vertical-align: middle;\n",
       "    }\n",
       "\n",
       "    .dataframe tbody tr th {\n",
       "        vertical-align: top;\n",
       "    }\n",
       "\n",
       "    .dataframe thead th {\n",
       "        text-align: right;\n",
       "    }\n",
       "</style>\n",
       "<table border=\"1\" class=\"dataframe\">\n",
       "  <thead>\n",
       "    <tr style=\"text-align: right;\">\n",
       "      <th></th>\n",
       "      <th>KIDSDRIV</th>\n",
       "      <th>AGE</th>\n",
       "      <th>HOMEKIDS</th>\n",
       "      <th>YOJ</th>\n",
       "      <th>INCOME</th>\n",
       "      <th>PARENT1</th>\n",
       "      <th>HOME_VAL</th>\n",
       "      <th>MSTATUS</th>\n",
       "      <th>GENDER</th>\n",
       "      <th>TRAVTIME</th>\n",
       "      <th>...</th>\n",
       "      <th>BLUEBOOK</th>\n",
       "      <th>TIF</th>\n",
       "      <th>RED_CAR</th>\n",
       "      <th>OLDCLAIM</th>\n",
       "      <th>CLM_FREQ</th>\n",
       "      <th>REVOKED</th>\n",
       "      <th>MVR_PTS</th>\n",
       "      <th>CLM_AMT</th>\n",
       "      <th>CAR_AGE</th>\n",
       "      <th>CLAIM_FLAG</th>\n",
       "    </tr>\n",
       "  </thead>\n",
       "  <tbody>\n",
       "    <tr>\n",
       "      <th>0</th>\n",
       "      <td>0</td>\n",
       "      <td>60.0</td>\n",
       "      <td>0</td>\n",
       "      <td>11.0</td>\n",
       "      <td>67.349</td>\n",
       "      <td>1</td>\n",
       "      <td>0.000</td>\n",
       "      <td>1</td>\n",
       "      <td>0</td>\n",
       "      <td>14</td>\n",
       "      <td>...</td>\n",
       "      <td>14.23</td>\n",
       "      <td>11</td>\n",
       "      <td>1</td>\n",
       "      <td>4.461</td>\n",
       "      <td>2</td>\n",
       "      <td>0</td>\n",
       "      <td>3</td>\n",
       "      <td>0.000</td>\n",
       "      <td>18.0</td>\n",
       "      <td>0</td>\n",
       "    </tr>\n",
       "    <tr>\n",
       "      <th>1</th>\n",
       "      <td>0</td>\n",
       "      <td>43.0</td>\n",
       "      <td>0</td>\n",
       "      <td>11.0</td>\n",
       "      <td>91.449</td>\n",
       "      <td>1</td>\n",
       "      <td>257.252</td>\n",
       "      <td>1</td>\n",
       "      <td>0</td>\n",
       "      <td>22</td>\n",
       "      <td>...</td>\n",
       "      <td>14.94</td>\n",
       "      <td>1</td>\n",
       "      <td>1</td>\n",
       "      <td>0.000</td>\n",
       "      <td>0</td>\n",
       "      <td>0</td>\n",
       "      <td>0</td>\n",
       "      <td>0.000</td>\n",
       "      <td>1.0</td>\n",
       "      <td>0</td>\n",
       "    </tr>\n",
       "    <tr>\n",
       "      <th>2</th>\n",
       "      <td>0</td>\n",
       "      <td>48.0</td>\n",
       "      <td>0</td>\n",
       "      <td>11.0</td>\n",
       "      <td>52.881</td>\n",
       "      <td>1</td>\n",
       "      <td>0.000</td>\n",
       "      <td>1</td>\n",
       "      <td>0</td>\n",
       "      <td>26</td>\n",
       "      <td>...</td>\n",
       "      <td>21.97</td>\n",
       "      <td>1</td>\n",
       "      <td>1</td>\n",
       "      <td>0.000</td>\n",
       "      <td>0</td>\n",
       "      <td>0</td>\n",
       "      <td>2</td>\n",
       "      <td>0.000</td>\n",
       "      <td>10.0</td>\n",
       "      <td>0</td>\n",
       "    </tr>\n",
       "    <tr>\n",
       "      <th>3</th>\n",
       "      <td>0</td>\n",
       "      <td>35.0</td>\n",
       "      <td>1</td>\n",
       "      <td>10.0</td>\n",
       "      <td>16.039</td>\n",
       "      <td>1</td>\n",
       "      <td>124.191</td>\n",
       "      <td>1</td>\n",
       "      <td>1</td>\n",
       "      <td>5</td>\n",
       "      <td>...</td>\n",
       "      <td>4.01</td>\n",
       "      <td>4</td>\n",
       "      <td>0</td>\n",
       "      <td>38.690</td>\n",
       "      <td>2</td>\n",
       "      <td>0</td>\n",
       "      <td>3</td>\n",
       "      <td>0.000</td>\n",
       "      <td>10.0</td>\n",
       "      <td>0</td>\n",
       "    </tr>\n",
       "    <tr>\n",
       "      <th>6</th>\n",
       "      <td>0</td>\n",
       "      <td>34.0</td>\n",
       "      <td>1</td>\n",
       "      <td>12.0</td>\n",
       "      <td>125.301</td>\n",
       "      <td>1</td>\n",
       "      <td>0.000</td>\n",
       "      <td>1</td>\n",
       "      <td>1</td>\n",
       "      <td>46</td>\n",
       "      <td>...</td>\n",
       "      <td>17.43</td>\n",
       "      <td>1</td>\n",
       "      <td>0</td>\n",
       "      <td>0.000</td>\n",
       "      <td>0</td>\n",
       "      <td>0</td>\n",
       "      <td>0</td>\n",
       "      <td>2.946</td>\n",
       "      <td>7.0</td>\n",
       "      <td>1</td>\n",
       "    </tr>\n",
       "  </tbody>\n",
       "</table>\n",
       "<p>5 rows × 21 columns</p>\n",
       "</div>"
      ],
      "text/plain": [
       "   KIDSDRIV   AGE  HOMEKIDS   YOJ   INCOME  PARENT1  HOME_VAL  MSTATUS  \\\n",
       "0         0  60.0         0  11.0   67.349        1     0.000        1   \n",
       "1         0  43.0         0  11.0   91.449        1   257.252        1   \n",
       "2         0  48.0         0  11.0   52.881        1     0.000        1   \n",
       "3         0  35.0         1  10.0   16.039        1   124.191        1   \n",
       "6         0  34.0         1  12.0  125.301        1     0.000        1   \n",
       "\n",
       "   GENDER  TRAVTIME  ...  BLUEBOOK  TIF  RED_CAR  OLDCLAIM  CLM_FREQ  REVOKED  \\\n",
       "0       0        14  ...     14.23   11        1     4.461         2        0   \n",
       "1       0        22  ...     14.94    1        1     0.000         0        0   \n",
       "2       0        26  ...     21.97    1        1     0.000         0        0   \n",
       "3       1         5  ...      4.01    4        0    38.690         2        0   \n",
       "6       1        46  ...     17.43    1        0     0.000         0        0   \n",
       "\n",
       "   MVR_PTS  CLM_AMT  CAR_AGE  CLAIM_FLAG  \n",
       "0        3    0.000     18.0           0  \n",
       "1        0    0.000      1.0           0  \n",
       "2        2    0.000     10.0           0  \n",
       "3        3    0.000     10.0           0  \n",
       "6        0    2.946      7.0           1  \n",
       "\n",
       "[5 rows x 21 columns]"
      ]
     },
     "execution_count": 4,
     "metadata": {},
     "output_type": "execute_result"
    }
   ],
   "source": [
    "df.dropna(inplace=True)\n",
    "df['GENDER'] = df['GENDER'].apply(lambda x: 0 if x=='M' else 1) \n",
    "df['RED_CAR'] = df['RED_CAR'].apply(lambda x: 0 if x=='no' else 1) \n",
    "df['PARENT1'] = df['PARENT1'].apply(lambda x: 0 if x=='z_No' else 1) \n",
    "df['REVOKED'] = df['REVOKED'].apply(lambda x: 0 if x=='No' else 1) \n",
    "df['MSTATUS'] = df['MSTATUS'].apply(lambda x: 0 if x=='No' else 1)\n",
    "df['CAR_USE'] = df['CAR_USE'].apply(lambda x: 0 if x=='Commercial' else 1)\n",
    "\n",
    "def transform_to_number(data, column):\n",
    "    data[column] = data[column].apply(lambda x: x.replace('$',''))\n",
    "    data[column] = pd.to_numeric(data[column].apply(lambda x: x.replace(',','.')))\n",
    "    return df\n",
    "\n",
    "\n",
    "df['INCOME'] = df['INCOME'].apply(lambda x: x.replace('$',''))\n",
    "df['INCOME'] = pd.to_numeric(df['INCOME'].apply(lambda x: x.replace(',','.')))\n",
    "df['HOME_VAL'] = df['HOME_VAL'].apply(lambda x: x.replace('$',''))\n",
    "df['HOME_VAL'] = pd.to_numeric(df['HOME_VAL'].apply(lambda x: x.replace(',','.')))\n",
    "df['OLDCLAIM'] = df['OLDCLAIM'].apply(lambda x: x.replace('$',''))\n",
    "df['OLDCLAIM'] = pd.to_numeric(df['OLDCLAIM'].apply(lambda x: x.replace(',','.')))\n",
    "df['CLM_AMT'] = df['CLM_AMT'].apply(lambda x: x.replace('$',''))\n",
    "df['CLM_AMT'] = pd.to_numeric(df['CLM_AMT'].apply(lambda x: x.replace(',','.')))\n",
    "df['BLUEBOOK'] = df['BLUEBOOK'].apply(lambda x: x.replace('$',''))\n",
    "df['BLUEBOOK'] = pd.to_numeric(df['BLUEBOOK'].apply(lambda x: x.replace(',','.')))\n",
    "\n",
    "#drop text columns or identifiers\n",
    "df.drop(['ID','EDUCATION','CAR_TYPE','OCCUPATION'], axis=1, inplace=True)\n",
    "\n",
    "df.head()"
   ]
  },
  {
   "cell_type": "markdown",
   "metadata": {},
   "source": [
    "Divide data into predictors and target variable, and also into training and test sets."
   ]
  },
  {
   "cell_type": "code",
   "execution_count": 5,
   "metadata": {},
   "outputs": [],
   "source": [
    "from sklearn.model_selection import train_test_split\n",
    "X = df.drop(['HOME_VAL'], axis=1)\n",
    "Y = df['HOME_VAL']\n",
    "X_train , X_test , Y_train , Y_test = train_test_split(X,Y, test_size = 0.2 , random_state = 1)"
   ]
  },
  {
   "cell_type": "markdown",
   "metadata": {},
   "source": [
    "Define scaler instances and scale the data"
   ]
  },
  {
   "cell_type": "code",
   "execution_count": 6,
   "metadata": {},
   "outputs": [],
   "source": [
    "from sklearn import preprocessing\n",
    "y_scaler = preprocessing.MinMaxScaler()\n",
    "x_scaler = preprocessing.MinMaxScaler()\n",
    "x_train_scaled = x_scaler.fit_transform(X_train.values)\n",
    "y_train_scaled = y_scaler.fit_transform(Y_train.values.reshape(-1, 1))\n",
    "x_test_scaled = x_scaler.fit_transform(X_test.values)\n",
    "y_test_scaled = y_scaler.fit_transform(Y_test.values.reshape(-1, 1))"
   ]
  },
  {
   "cell_type": "markdown",
   "metadata": {},
   "source": [
    "Run the model and calculate the MSE error and RMSE error with the scaled data"
   ]
  },
  {
   "cell_type": "code",
   "execution_count": 7,
   "metadata": {},
   "outputs": [
    {
     "name": "stdout",
     "output_type": "stream",
     "text": [
      "mean squared error: 0.019551814484836172\n",
      "root squared mean squared error: 0.13982780297507422\n"
     ]
    }
   ],
   "source": [
    "from sklearn.ensemble import RandomForestRegressor\n",
    "from sklearn.metrics import mean_squared_error\n",
    "import math\n",
    "rf_model = RandomForestRegressor(n_estimators = 10, random_state = 123)\n",
    "rf_model = rf_model.fit(x_train_scaled, y_train_scaled.ravel())\n",
    "predictions = rf_model.predict(x_test_scaled)\n",
    "print('mean squared error:', mean_squared_error(y_test_scaled, predictions))\n",
    "print('root squared mean squared error:', math.sqrt(mean_squared_error(y_test_scaled, predictions)))"
   ]
  },
  {
   "cell_type": "markdown",
   "metadata": {},
   "source": [
    "Although the error seems small, the predicted values are scaled. So, let's do the inverse process to get the 'real' values (without scale) and calculate again the error"
   ]
  },
  {
   "cell_type": "code",
   "execution_count": 8,
   "metadata": {},
   "outputs": [
    {
     "name": "stdout",
     "output_type": "stream",
     "text": [
      "(1532,)\n",
      "(1532,)\n",
      "mean squared error: 15323.230547406265\n",
      "root squared mean squared error: 123.78703707337964\n"
     ]
    }
   ],
   "source": [
    "ypred = y_scaler.inverse_transform(predictions.reshape(-1, 1))\n",
    "print(Y_test.shape)\n",
    "ypred = ypred.reshape(Y_test.shape[0],)\n",
    "print(ypred.shape)\n",
    "print('mean squared error:', mean_squared_error(Y_test, ypred))\n",
    "print('root squared mean squared error:', math.sqrt(mean_squared_error(Y_test, ypred)))"
   ]
  },
  {
   "cell_type": "markdown",
   "metadata": {},
   "source": [
    "We can see that now the error is different, it means that predicted values are wrong by 123.78 dollars. It might be high or not, depending on the context. But it is an alert that we must be aware that when we scale the target variable, in order to compare and visualize the error it is important to return to the original scale the values. We can visualize the difference between the original and predicted values in the following graphs."
   ]
  },
  {
   "cell_type": "code",
   "execution_count": 12,
   "metadata": {},
   "outputs": [
    {
     "data": {
      "image/png": "[encoded data removed]",
      "text/plain": [
       "<Figure size 1080x360 with 3 Axes>"
      ]
     },
     "metadata": {
      "needs_background": "light"
     },
     "output_type": "display_data"
    }
   ],
   "source": [
    "from matplotlib import pyplot as plt\n",
    "fig, ax = plt.subplots(1, 3, sharex=True, sharey=True, figsize=(15,5))\n",
    "ax[0].plot(Y_test.to_numpy(), color = 'blue')\n",
    "ax[0].set_title('Original values')\n",
    "ax[1].plot(ypred, color = 'orange')\n",
    "ax[1].set_title('Predicted values')\n",
    "ax[2].plot(Y_test.to_numpy(), color = 'blue')\n",
    "ax[2].plot(ypred, color = 'orange')\n",
    "ax[2].set_title('Original vs Predicted')\n",
    "plt.show()"
   ]
  },
  {
   "cell_type": "markdown",
   "metadata": {},
   "source": [
    "We can also, only scale the predictors variables and use the original values for the target variable. This might be a better option if your target variable does not have very high values, since in order to achieve those values the coefficient might too large. Apart from that, there is not any other problem why you cannot do this. "
   ]
  },
  {
   "cell_type": "code",
   "execution_count": 10,
   "metadata": {},
   "outputs": [
    {
     "name": "stdout",
     "output_type": "stream",
     "text": [
      "mean squared error: 11507.739591271456\n",
      "root squared mean squared error: 107.27413290850436\n"
     ]
    }
   ],
   "source": [
    "from sklearn.ensemble import RandomForestRegressor\n",
    "rf_model = RandomForestRegressor(n_estimators = 10, random_state = 123)\n",
    "rf_model = rf_model.fit(x_train_scaled, Y_train)\n",
    "predictions = rf_model.predict(x_test_scaled)\n",
    "print('mean squared error:', mean_squared_error(Y_test, predictions))\n",
    "print('root squared mean squared error:', math.sqrt(mean_squared_error(Y_test, predictions)))"
   ]
  },
  {
   "cell_type": "code",
   "execution_count": 11,
   "metadata": {},
   "outputs": [
    {
     "data": {
      "image/png": "[encoded data removed]",
      "text/plain": [
       "<Figure size 1080x360 with 3 Axes>"
      ]
     },
     "metadata": {
      "needs_background": "light"
     },
     "output_type": "display_data"
    }
   ],
   "source": [
    "from matplotlib import pyplot as plt\n",
    "fig, ax = plt.subplots(1, 3, sharex=True, sharey=True, figsize=(15,5))\n",
    "ax[0].plot(Y_test.to_numpy(), color = 'blue')\n",
    "ax[0].set_title('Original values')\n",
    "ax[1].plot(predictions, color = 'orange')\n",
    "ax[1].set_title('Predicted values')\n",
    "ax[2].plot(Y_test.to_numpy(), color = 'blue')\n",
    "ax[2].plot(predictions, color = 'orange')\n",
    "ax[2].set_title('Original vs Predicted')\n",
    "plt.show()"
   ]
  }
 ],
 "metadata": {
  "hide_input": false,
  "kernelspec": {
   "display_name": "Python 3",
   "language": "python",
   "name": "python3"
  },
  "language_info": {
   "codemirror_mode": {
    "name": "ipython",
    "version": 3
   },
   "file_extension": ".py",
   "mimetype": "text/x-python",
   "name": "python",
   "nbconvert_exporter": "python",
   "pygments_lexer": "ipython3",
   "version": "3.6.9"
  },
  "toc": {
   "base_numbering": 1,
   "nav_menu": {},
   "number_sections": false,
   "sideBar": true,
   "skip_h1_title": false,
   "title_cell": "Table of Contents",
   "title_sidebar": "Contents",
   "toc_cell": false,
   "toc_position": {},
   "toc_section_display": true,
   "toc_window_display": true
  }
 },
 "nbformat": 4,
 "nbformat_minor": 4
}
