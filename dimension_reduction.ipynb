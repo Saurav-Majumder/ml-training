{
 "cells": [
  {
   "cell_type": "markdown",
   "metadata": {},
   "source": [
    "# Dimension Reduction"
   ]
  },
  {
   "cell_type": "markdown",
   "metadata": {},
   "source": [
    "## Principal Components Analysis\n",
    "A dataset that contains information about some factors for each country is used for the year 2019.\n",
    "The dataset can be found in https://www.kaggle.com/unsdsn/world-happiness. \n",
    "\n",
    "### Data cleaning\n",
    "First load the data and show the first rows. "
   ]
  },
  {
   "cell_type": "code",
   "execution_count": 3,
   "metadata": {},
   "outputs": [
    {
     "data": {
      "text/html": [
       "<div>\n",
       "<style scoped>\n",
       "    .dataframe tbody tr th:only-of-type {\n",
       "        vertical-align: middle;\n",
       "    }\n",
       "\n",
       "    .dataframe tbody tr th {\n",
       "        vertical-align: top;\n",
       "    }\n",
       "\n",
       "    .dataframe thead th {\n",
       "        text-align: right;\n",
       "    }\n",
       "</style>\n",
       "<table border=\"1\" class=\"dataframe\">\n",
       "  <thead>\n",
       "    <tr style=\"text-align: right;\">\n",
       "      <th></th>\n",
       "      <th>Overall rank</th>\n",
       "      <th>Country or region</th>\n",
       "      <th>Score</th>\n",
       "      <th>GDP per capita</th>\n",
       "      <th>Social support</th>\n",
       "      <th>Healthy life expectancy</th>\n",
       "      <th>Freedom to make life choices</th>\n",
       "      <th>Generosity</th>\n",
       "      <th>Perceptions of corruption</th>\n",
       "    </tr>\n",
       "  </thead>\n",
       "  <tbody>\n",
       "    <tr>\n",
       "      <th>0</th>\n",
       "      <td>1</td>\n",
       "      <td>Finland</td>\n",
       "      <td>7.769</td>\n",
       "      <td>1.340</td>\n",
       "      <td>1.587</td>\n",
       "      <td>0.986</td>\n",
       "      <td>0.596</td>\n",
       "      <td>0.153</td>\n",
       "      <td>0.393</td>\n",
       "    </tr>\n",
       "    <tr>\n",
       "      <th>1</th>\n",
       "      <td>2</td>\n",
       "      <td>Denmark</td>\n",
       "      <td>7.600</td>\n",
       "      <td>1.383</td>\n",
       "      <td>1.573</td>\n",
       "      <td>0.996</td>\n",
       "      <td>0.592</td>\n",
       "      <td>0.252</td>\n",
       "      <td>0.410</td>\n",
       "    </tr>\n",
       "    <tr>\n",
       "      <th>2</th>\n",
       "      <td>3</td>\n",
       "      <td>Norway</td>\n",
       "      <td>7.554</td>\n",
       "      <td>1.488</td>\n",
       "      <td>1.582</td>\n",
       "      <td>1.028</td>\n",
       "      <td>0.603</td>\n",
       "      <td>0.271</td>\n",
       "      <td>0.341</td>\n",
       "    </tr>\n",
       "    <tr>\n",
       "      <th>3</th>\n",
       "      <td>4</td>\n",
       "      <td>Iceland</td>\n",
       "      <td>7.494</td>\n",
       "      <td>1.380</td>\n",
       "      <td>1.624</td>\n",
       "      <td>1.026</td>\n",
       "      <td>0.591</td>\n",
       "      <td>0.354</td>\n",
       "      <td>0.118</td>\n",
       "    </tr>\n",
       "    <tr>\n",
       "      <th>4</th>\n",
       "      <td>5</td>\n",
       "      <td>Netherlands</td>\n",
       "      <td>7.488</td>\n",
       "      <td>1.396</td>\n",
       "      <td>1.522</td>\n",
       "      <td>0.999</td>\n",
       "      <td>0.557</td>\n",
       "      <td>0.322</td>\n",
       "      <td>0.298</td>\n",
       "    </tr>\n",
       "  </tbody>\n",
       "</table>\n",
       "</div>"
      ],
      "text/plain": [
       "   Overall rank Country or region  Score  GDP per capita  Social support  \\\n",
       "0             1           Finland  7.769           1.340           1.587   \n",
       "1             2           Denmark  7.600           1.383           1.573   \n",
       "2             3            Norway  7.554           1.488           1.582   \n",
       "3             4           Iceland  7.494           1.380           1.624   \n",
       "4             5       Netherlands  7.488           1.396           1.522   \n",
       "\n",
       "   Healthy life expectancy  Freedom to make life choices  Generosity  \\\n",
       "0                    0.986                         0.596       0.153   \n",
       "1                    0.996                         0.592       0.252   \n",
       "2                    1.028                         0.603       0.271   \n",
       "3                    1.026                         0.591       0.354   \n",
       "4                    0.999                         0.557       0.322   \n",
       "\n",
       "   Perceptions of corruption  \n",
       "0                      0.393  \n",
       "1                      0.410  \n",
       "2                      0.341  \n",
       "3                      0.118  \n",
       "4                      0.298  "
      ]
     },
     "execution_count": 3,
     "metadata": {},
     "output_type": "execute_result"
    }
   ],
   "source": [
    "#Load data\n",
    "import pandas as pd\n",
    "df = pd.read_csv('data/2019.csv')\n",
    "df.head()"
   ]
  },
  {
   "cell_type": "markdown",
   "metadata": {},
   "source": [
    "Show the columns"
   ]
  },
  {
   "cell_type": "code",
   "execution_count": null,
   "metadata": {},
   "outputs": [],
   "source": [
    "df.columns"
   ]
  },
  {
   "cell_type": "markdown",
   "metadata": {},
   "source": [
    "Check if there are outliers "
   ]
  },
  {
   "cell_type": "code",
   "execution_count": null,
   "metadata": {},
   "outputs": [],
   "source": [
    "print(df.shape)\n",
    "df.isnull().sum()"
   ]
  },
  {
   "cell_type": "markdown",
   "metadata": {},
   "source": [
    "### Correlation matrix\n",
    "\n",
    "A correlation matrix shows how variables relate to each other by the correlation matrix.   \n",
    "  \n",
    "Show a heatmap for the correlation matrix. \n"
   ]
  },
  {
   "cell_type": "code",
   "execution_count": null,
   "metadata": {},
   "outputs": [],
   "source": [
    "import seaborn as sn\n",
    "sn.heatmap(df.corr(), annot=True)"
   ]
  },
  {
   "cell_type": "markdown",
   "metadata": {},
   "source": [
    "### Find the PCs\n",
    "Find the Principal Components that represent 80% of the variance of the data. \n",
    "First, we need to define which are the features and the target variables for this problem.\n",
    "Then, scale the data and finally find the components. "
   ]
  },
  {
   "cell_type": "code",
   "execution_count": null,
   "metadata": {},
   "outputs": [],
   "source": [
    "features = df.drop(['Country or region', 'Overall rank'], axis=1)\n",
    "%pylab inline\n",
    "from sklearn.preprocessing import StandardScaler\n",
    "from sklearn.decomposition import PCA\n",
    "x = StandardScaler().fit_transform(features.values)\n",
    "pca = PCA(random_state=0)\n",
    "pca.fit(x)"
   ]
  },
  {
   "cell_type": "markdown",
   "metadata": {},
   "source": [
    "### Scree plot\n",
    "By plotting the cumulative explained variance when while changing the number of components, we can see when the variances reachers a threshold that we think that is enough to explain the data. And, in this way determine the number of components that are neccesary.  \n",
    " \n",
    "Thus, plot the cumulative explained_variance_ratio and find the number of components that explains the 80% of the data.   "
   ]
  },
  {
   "cell_type": "code",
   "execution_count": null,
   "metadata": {},
   "outputs": [],
   "source": [
    "import matplotlib.pyplot as plt\n",
    "import numpy as np\n",
    "import pandas as pd\n",
    "from itertools import combinations\n",
    "threshold=0.8\n",
    "plt.plot(range(1, len(pca.explained_variance_ratio_)+1), np.cumsum(pca.explained_variance_ratio_))\n",
    "plt.xlabel('Number of components')\n",
    "plt.ylabel('Cumulative explained variance')\n",
    "plt.title('Scree plot')\n",
    "plt.axhline(y=threshold, color='r', linestyle='-')\n",
    "plt.show()"
   ]
  },
  {
   "cell_type": "markdown",
   "metadata": {},
   "source": [
    "From the graph, we can see that the desired threshold is reached with 3 components. To the get exact value, we can see the vector for the comulative explained variance ratio. While with 2 components it can be explained around 75%, with 3 it is explained 84%. "
   ]
  },
  {
   "cell_type": "code",
   "execution_count": null,
   "metadata": {},
   "outputs": [],
   "source": [
    "np.cumsum(pca.explained_variance_ratio_)"
   ]
  },
  {
   "cell_type": "markdown",
   "metadata": {},
   "source": [
    "Define a variable that corresponds to the number of components "
   ]
  },
  {
   "cell_type": "code",
   "execution_count": null,
   "metadata": {},
   "outputs": [],
   "source": [
    "#determine number of components with threshold=0.8\n",
    "n_components=np.where(np.cumsum(pca.explained_variance_ratio_)>0.8)[0][0]+1\n",
    "\n",
    "#Print explained variance\n",
    "np.cumsum(pca.explained_variance_ratio_)[n_components-1]"
   ]
  },
  {
   "cell_type": "markdown",
   "metadata": {},
   "source": [
    "### Interpretation \n",
    "Now that the number of components is defined, we can see the importance of each variable for the first 3 components.  \n",
    "\n",
    "From the values of the PCs, we can conclude that:\n",
    "- PC1 represents \"Poor\" countries  \n",
    "- PC2 represents \"Generous\" countries\n",
    "- PC3 represents \"Corrupted\" countries \n",
    "\n",
    "This is totally subjective, so you can find another definition for the components.\n",
    "\n",
    "Observation: The Perception of Corruption Index is measure on a scale from 100 (clean) to 0 (highly corrupted)."
   ]
  },
  {
   "cell_type": "code",
   "execution_count": null,
   "metadata": {},
   "outputs": [],
   "source": [
    "pca = PCA(n_components=n_components)\n",
    "pcs = pca.fit(x)\n",
    "pd.DataFrame(data=pcs.components_, columns = features.columns, index=['PC1', 'PC2', 'PC3'])"
   ]
  },
  {
   "cell_type": "markdown",
   "metadata": {},
   "source": [
    "Plot the information of the components pcs._components to see the importance of each variable for each component"
   ]
  },
  {
   "cell_type": "code",
   "execution_count": null,
   "metadata": {},
   "outputs": [],
   "source": [
    "components_range = np.arange(1, n_components+1, 1)\n",
    "components_names = list(map(lambda x: 'PC' + str(x), components_range))\n",
    "plt.matshow(pcs.components_,cmap='viridis')\n",
    "plt.yticks(range(0,n_components), components_names,fontsize=10)\n",
    "plt.colorbar()\n",
    "plt.xticks(range(0,len(features.columns)),features.columns,rotation=90,ha='left')\n",
    "plt.tight_layout()\n",
    "plt.show()"
   ]
  },
  {
   "cell_type": "markdown",
   "metadata": {},
   "source": [
    "Fit the data to the PCA with the obtained number of components"
   ]
  },
  {
   "cell_type": "code",
   "execution_count": null,
   "metadata": {},
   "outputs": [],
   "source": [
    "pca = PCA(n_components=n_components)\n",
    "pcs = pca.fit(x)\n",
    "pd.DataFrame(data=pcs.components_, columns = features.columns, index=['PC1', 'PC2', 'PC3'])"
   ]
  },
  {
   "cell_type": "markdown",
   "metadata": {},
   "source": [
    "Create a new dataframe from the result of fit_transform and concat the Country of region variable."
   ]
  },
  {
   "cell_type": "code",
   "execution_count": null,
   "metadata": {
    "scrolled": true
   },
   "outputs": [],
   "source": [
    "pca_df = pd.DataFrame(data = pca.fit_transform(x), columns = components_names)\n",
    "pca_df = pd.concat([pca_df, df['Country or region']], axis = 1)\n",
    "pca_df.head()"
   ]
  },
  {
   "cell_type": "markdown",
   "metadata": {},
   "source": [
    "### Scatter plot\n",
    "By a scatter plot we can visualize the relationship between 2 components. And analyze if the points are grouped in a certain way.   \n",
    "   \n",
    "Using the dataframe created before (pca_df) show 3 graphs that compares: \n",
    "- PC1 and PC2\n",
    "- PC1 and PC3\n",
    "- PC2 and PC3"
   ]
  },
  {
   "cell_type": "code",
   "execution_count": null,
   "metadata": {},
   "outputs": [],
   "source": [
    "import geopandas\n",
    "import seaborn as sns\n",
    "\n",
    "world = geopandas.read_file(geopandas.datasets.get_path('naturalearth_lowres'))\n",
    "merged_inner = pd.merge(left=world, right=pca_df, left_on='name',right_on='Country or region', how='inner')\n",
    "targets = merged_inner.continent.unique()\n",
    "colors = sns.color_palette(\"hls\", len(targets))\n",
    "\n",
    "def draw_components(ax, targets, colors, names, df):\n",
    "    ax.set_xlabel(names[0])\n",
    "    ax.set_ylabel(names[1])\n",
    "    for target, color in zip(targets,colors):\n",
    "        indicesToKeep = df['continent'] == target\n",
    "        ax.scatter(df.loc[indicesToKeep, names[0]]\n",
    "                   , df.loc[indicesToKeep, names[1]]\n",
    "                   , cmap = colors\n",
    "                   , s = 50)\n",
    "    ax.grid()\n",
    "    return ax\n",
    "\n",
    "fig, axs = plt.subplots(1,3, figsize=(20, 5))\n",
    "draw_components(axs[0],targets, colors, ['PC1','PC2'], merged_inner)\n",
    "draw_components(axs[1],targets, colors, ['PC1','PC3'], merged_inner)\n",
    "draw_components(axs[2],targets, colors, ['PC2','PC3'], merged_inner)\n",
    "fig.legend(targets)\n",
    "plt.show()"
   ]
  },
  {
   "cell_type": "markdown",
   "metadata": {},
   "source": [
    "\n",
    "Graph 1: PC1 vs PC2 \n",
    "- We can see that Africa has high PC1, which means that countries from Africa are Poor.\n",
    "- Countries that have very very low PC1, that are rich, are generous.\n",
    "- Countries that are in the middle, are not rich and are not poor, are not generous. \n",
    "\n",
    "Graph 2: PC1 vs PC3\n",
    "In this graph we can see the division between reach and poor again, but for the corruption is very spread. Seems that there is not correlation between these 2 components. A country might be poor but corrupted or not. \n",
    "\n",
    "Graph 3: PC2 vs PC3\n",
    "This graph compares PC3(corruption) and PC2(generosity), we can can see that most of the countries are concentrated in the middle, which means that have some level of corruption and are not very generous.   \n",
    "There are some exceptions:   \n",
    "- 2 countries from Africa that are very genereous and not corrupted.\n",
    "- 2 countries from Asia that are very generous but very corrupted.    \n"
   ]
  },
  {
   "cell_type": "markdown",
   "metadata": {},
   "source": [
    "### Validate\n",
    "We can see if our definition of the principal components makes sense by drawing a world map and coloring the principal components. Comparing the two graphs are very similar. Thus, the definition of the principal components might be right.   \n",
    "\n",
    "Create 2 world maps using geopandas library to color the principal components. One map corresponds to the dataframe related to the result of transform and the other map would be from the original data.    "
   ]
  },
  {
   "cell_type": "code",
   "execution_count": null,
   "metadata": {},
   "outputs": [],
   "source": [
    "merged_inner['pc'] = np.where(merged_inner['PC1'] > merged_inner['PC2'], 'PC1', 'PC2')\n",
    "merged_inner['pc'] = np.where(merged_inner['PC3'] > merged_inner['PC1'], 'PC3', merged_inner['pc'])\n",
    "merged_inner['pc'] = np.where(merged_inner['PC3'] > merged_inner['PC2'], 'PC3', merged_inner['pc'])\n",
    "pc1 = merged_inner[merged_inner['pc']=='PC1']\n",
    "pc2 = merged_inner[merged_inner['pc']=='PC2']\n",
    "pc3 = merged_inner[merged_inner['pc']=='PC3']\n",
    "\n",
    "cmap = cm.get_cmap('Spectral')\n",
    "fig, (ax1,ax2) = plt.subplots(1,2, figsize=(20, 5))\n",
    "world.plot(color='lightgrey', ax=ax1)\n",
    "pc1.plot(ax=ax1, color='blue', label='PC1')\n",
    "pc2.plot(ax=ax1, color='green', label='PC2')\n",
    "pc3.plot(ax=ax1, color='red', label='PC3')\n",
    "ax1.set_title('From Principal Components')\n",
    "\n",
    "df_merged = pd.merge(left=world, right=df, left_on='name',right_on='Country or region', how='inner')\n",
    "generous_countries = df_merged[df_merged['Generosity'] > 0.4]\n",
    "corrupted_countries = df_merged[df_merged['Perceptions of corruption'] < 0.4]\n",
    "poor_countries = df_merged[df_merged['GDP per capita'] < 0.4]\n",
    "\n",
    "world.plot(color='lightgrey', ax=ax2)\n",
    "corrupted_countries.plot(ax=ax2, color='red', label='PC3')\n",
    "generous_countries.plot(ax=ax2, color='green', label='PC2')\n",
    "poor_countries.plot(ax=ax2, color='blue', label='PC1')\n",
    "ax2.set_title('From Data')\n",
    "\n",
    "import matplotlib.patches as mpatches\n",
    "\n",
    "red_patch = mpatches.Patch(color='red', label='The red data')\n",
    "blue_patch = mpatches.Patch(color='blue', label='The blue data')\n",
    "green_patch = mpatches.Patch(color='green', label='The green data')\n",
    "plt.legend(handles=[red_patch, blue_patch, green_patch], labels=['Corrupted', 'Generous', 'Poor'], \n",
    "           bbox_to_anchor=(1.05, 1), loc='upper left', borderaxespad=0.)\n",
    "plt.show()"
   ]
  },
  {
   "cell_type": "markdown",
   "metadata": {},
   "source": [
    "## Biplot\n",
    "By drowing a biplot we can see the relationship between components and variables.  \n",
    "Create a function to create a biplot between 2 components.   \n",
    " "
   ]
  },
  {
   "cell_type": "code",
   "execution_count": null,
   "metadata": {},
   "outputs": [],
   "source": [
    "def biplot(scores,coeff,pca_1,pca_2,figsize, labels=None):\n",
    "    pca_1_index = pca_1 -1\n",
    "    pca_2_index = pca_2 -1\n",
    "    x = scores[:,pca_1_index]\n",
    "    y = scores[:,pca_2_index]\n",
    "    n=coeff.shape[1]\n",
    "    scale_x = 1.0/(x.max() - x.min())\n",
    "    scale_y = 1.0/(y.max() - y.min())\n",
    "    plt.figure(figsize=figsize)\n",
    "    plt.scatter(x*scale_x,y*scale_y)\n",
    "    for i in range(n-1):\n",
    "        plt.arrow(0, 0, coeff[pca_1_index, i], coeff[pca_2_index, i],color='red',alpha=0.5) \n",
    "        if labels is None:\n",
    "            plt.text(coeff[pca_1_index, i]* 1.15, coeff[pca_2_index, i] * 1.15, str(i+1), color='black', ha='center', va='center')\n",
    "        else:\n",
    "            plt.text(coeff[pca_1_index, i]* 1.15, coeff[pca_2_index, i] * 1.15, labels[i], color='black', ha='center', va='center')\n",
    "    plt.xlim(-1,1)\n",
    "    plt.ylim(-1,1)\n",
    "    plt.xlabel(\"PC{}\".format(pca_1))\n",
    "    plt.ylabel(\"PC{}\".format(pca_2))\n",
    "    plt.grid()\n",
    "    #plt.savefig(\"PC{}_PC{}\".format(pca_1, pca_2), dpi=fig.dpi)\n",
    "    plt.show()\n",
    "   "
   ]
  },
  {
   "cell_type": "markdown",
   "metadata": {},
   "source": [
    "#### PC1 vs PC2\n",
    "Pesent the graphs for the possible combinations for the components PC1 and analyze the results. "
   ]
  },
  {
   "cell_type": "code",
   "execution_count": null,
   "metadata": {},
   "outputs": [],
   "source": [
    "scores = pca.transform(x)\n",
    "biplot(scores,pcs.components_,1,2,(10,10),labels=features.columns)"
   ]
  },
  {
   "cell_type": "markdown",
   "metadata": {},
   "source": [
    "\n",
    "- If you look at the ‘Generosity’ arrow, it is the most important factor for PC2, and it points towards high values of PC2, so we know the higher the value of PC2, the higher the ‘Generosity’. \n",
    "- We can see that 'Healthy life expectancy' is related with 'Social Support' and 'GDP per capita' since the arrows for those variables are nearby, therefore the angle between them is small. In addition, if those values are small, PC2 tends to be small. In contrast, when those variables are small PC1 is bigger.  \n",
    "- We can see also that the most correlated variable with Generosity is Freedom to make choices and it is related with higher values for PC2. \n",
    "- From the points, we can see that there is no clear relationship between the two components, since the points are disperse on the space. \n",
    "\n",
    "#### PC2 vs PC3\n",
    "Present the graph for components 2 and 3 and analyze the results. "
   ]
  },
  {
   "cell_type": "code",
   "execution_count": null,
   "metadata": {},
   "outputs": [],
   "source": [
    "biplot(scores,pcs.components_,2,3,(10,10),labels=features.columns)"
   ]
  },
  {
   "cell_type": "markdown",
   "metadata": {},
   "source": [
    "\n",
    "- Generous countries might be corrupted (when PC2 and PC3 are high), but there is no clear relationship between the two components because the points are around the center. It means that in general countries have an average index for corruption and generosity. Although there are some dots that are different from the rest, when one of the components is high.\n",
    "- In this graph we can also see that Countries where there is Freedom to make life choices are more likely to have higher Generosity index   \n",
    "\n",
    "\n",
    "#### PC1 vs PC3\n",
    "Present the biplot for PC1 and PC3 and analyze the results. "
   ]
  },
  {
   "cell_type": "code",
   "execution_count": null,
   "metadata": {},
   "outputs": [],
   "source": [
    "biplot(scores,pcs.components_,1,3,(10,10),labels=features.columns)"
   ]
  },
  {
   "cell_type": "markdown",
   "metadata": {},
   "source": [
    "\n",
    "- From this graph we cannot conclude anything else rather things that we already said. \n",
    "- The dots are spread in the space, so there is not a relationship between the two components."
   ]
  },
  {
   "cell_type": "markdown",
   "metadata": {},
   "source": [
    "# TSNE\n",
    "\n",
    "Use digits data from sklearn.datasets in order to show how to represent high dimensional data into 2 dimensions graphically using TSNE from sklearn.manifold.\n"
   ]
  },
  {
   "cell_type": "code",
   "execution_count": null,
   "metadata": {},
   "outputs": [],
   "source": [
    "import matplotlib.pyplot as plt\n",
    "import seaborn as sns\n",
    "%matplotlib inline\n",
    "import pandas as pd\n",
    "from sklearn.datasets import load_digits\n",
    "from sklearn.manifold import TSNE\n",
    "import numpy as np\n",
    "digits = load_digits()\n",
    "print(digits.target)\n",
    "print(digits.data)\n",
    "tsne = TSNE(n_components=2, random_state=0)\n",
    "tsne_result= tsne.fit_transform(digits.data)\n",
    "tsne_df = pd.DataFrame({'X':tsne_result[:,0],\n",
    "                        'Y':tsne_result[:,1],\n",
    "                        'digit':digits.target})\n",
    "\n",
    "\n",
    "tsne_df.head()"
   ]
  },
  {
   "cell_type": "markdown",
   "metadata": {},
   "source": [
    "Plot the results into a scatterplot, coloring by digit variable. "
   ]
  },
  {
   "cell_type": "code",
   "execution_count": null,
   "metadata": {},
   "outputs": [],
   "source": [
    "sns.scatterplot(x=\"X\", y=\"Y\",\n",
    "              hue=\"digit\",\n",
    "              legend =\"full\",\n",
    "              palette='Spectral',\n",
    "              data=tsne_df)\n",
    "plt.show()"
   ]
  }
 ],
 "metadata": {
  "hide_input": false,
  "kernelspec": {
   "display_name": "Python 3",
   "language": "python",
   "name": "python3"
  },
  "language_info": {
   "codemirror_mode": {
    "name": "ipython",
    "version": 3
   },
   "file_extension": ".py",
   "mimetype": "text/x-python",
   "name": "python",
   "nbconvert_exporter": "python",
   "pygments_lexer": "ipython3",
   "version": "3.6.9"
  },
  "toc": {
   "base_numbering": 1,
   "nav_menu": {},
   "number_sections": true,
   "sideBar": true,
   "skip_h1_title": false,
   "title_cell": "Table of Contents",
   "title_sidebar": "Contents",
   "toc_cell": false,
   "toc_position": {},
   "toc_section_display": true,
   "toc_window_display": true
  }
 },
 "nbformat": 4,
 "nbformat_minor": 2
}
