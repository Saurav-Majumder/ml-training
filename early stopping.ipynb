{
 "cells": [
  {
   "cell_type": "code",
   "execution_count": 1,
   "metadata": {},
   "outputs": [],
   "source": [
    "#https://www.machinecurve.com/index.php/2019/05/30/avoid-wasting-resources-with-earlystopping-and-modelcheckpoint-in-keras/#example-implementation\n",
    "from tensorflow.keras.preprocessing import sequence\n",
    "from tensorflow.keras.models import Sequential\n",
    "from tensorflow.keras.layers import Dense, Dropout, Activation\n",
    "from tensorflow.keras.layers import Embedding\n",
    "from tensorflow.keras.layers import Conv1D, GlobalMaxPooling1D\n",
    "from tensorflow.keras.datasets import imdb\n",
    "import numpy as np\n",
    "np.random.seed(7)\n"
   ]
  },
  {
   "cell_type": "code",
   "execution_count": 2,
   "metadata": {},
   "outputs": [],
   "source": [
    "# set parameters:\n",
    "max_features = 5000\n",
    "maxlen = 400\n",
    "batch_size = 100\n",
    "embedding_dims = 50\n",
    "filters = 250\n",
    "kernel_size = 3\n",
    "hidden_dims = 250\n",
    "epochs = 40"
   ]
  },
  {
   "cell_type": "code",
   "execution_count": 3,
   "metadata": {},
   "outputs": [],
   "source": [
    "(x_train, y_train), (x_test, y_test) = imdb.load_data(num_words=max_features)\n",
    "x_train = sequence.pad_sequences(x_train, maxlen=maxlen)\n",
    "x_test = sequence.pad_sequences(x_test, maxlen=maxlen)"
   ]
  },
  {
   "cell_type": "code",
   "execution_count": 4,
   "metadata": {},
   "outputs": [],
   "source": [
    "model = Sequential()\n",
    "model.add(Embedding(max_features,\n",
    "                    embedding_dims,\n",
    "                    input_length=maxlen))\n",
    "model.add(Dropout(0.2))\n",
    "model.add(Conv1D(filters,\n",
    "                 kernel_size,\n",
    "                 padding='valid',\n",
    "                 activation='relu',\n",
    "                 strides=1))\n",
    "model.add(GlobalMaxPooling1D())\n",
    "model.add(Dense(hidden_dims))\n",
    "model.add(Dropout(0.2))\n",
    "model.add(Activation('relu'))\n",
    "model.add(Dense(1))\n",
    "model.add(Activation('sigmoid'))"
   ]
  },
  {
   "cell_type": "code",
   "execution_count": 5,
   "metadata": {},
   "outputs": [],
   "source": [
    "model.compile(loss='binary_crossentropy',\n",
    "              optimizer='adam',\n",
    "              metrics=['accuracy'])"
   ]
  },
  {
   "cell_type": "code",
   "execution_count": null,
   "metadata": {},
   "outputs": [
    {
     "name": "stdout",
     "output_type": "stream",
     "text": [
      "Train on 20000 samples, validate on 5000 samples\n",
      "Epoch 1/40\n",
      "20000/20000 [==============================] - 114s 6ms/sample - loss: 0.5412 - accuracy: 0.6895 - val_loss: 0.3420 - val_accuracy: 0.8450\n",
      "Epoch 2/40\n",
      "20000/20000 [==============================] - 116s 6ms/sample - loss: 0.2809 - accuracy: 0.8837 - val_loss: 0.2755 - val_accuracy: 0.8872\n",
      "Epoch 3/40\n",
      "20000/20000 [==============================] - 117s 6ms/sample - loss: 0.1907 - accuracy: 0.9251 - val_loss: 0.2712 - val_accuracy: 0.8930\n",
      "Epoch 4/40\n",
      "20000/20000 [==============================] - 113s 6ms/sample - loss: 0.1382 - accuracy: 0.9484 - val_loss: 0.2840 - val_accuracy: 0.8950\n",
      "Epoch 5/40\n",
      "20000/20000 [==============================] - 113s 6ms/sample - loss: 0.0904 - accuracy: 0.9695 - val_loss: 0.3217 - val_accuracy: 0.8906\n",
      "Epoch 6/40\n",
      "20000/20000 [==============================] - 113s 6ms/sample - loss: 0.0612 - accuracy: 0.9792 - val_loss: 0.3739 - val_accuracy: 0.8874\n",
      "Epoch 7/40\n",
      "20000/20000 [==============================] - 114s 6ms/sample - loss: 0.0396 - accuracy: 0.9869 - val_loss: 0.3967 - val_accuracy: 0.8880\n",
      "Epoch 8/40\n",
      "20000/20000 [==============================] - 113s 6ms/sample - loss: 0.0336 - accuracy: 0.9885 - val_loss: 0.4443 - val_accuracy: 0.8862\n",
      "Epoch 9/40\n",
      "12600/20000 [=================>............] - ETA: 39s - loss: 0.0209 - accuracy: 0.9937"
     ]
    }
   ],
   "source": [
    "model.fit(x_train, y_train,\n",
    "          batch_size=batch_size,\n",
    "          epochs=epochs,\n",
    "          validation_split=0.2)"
   ]
  },
  {
   "cell_type": "code",
   "execution_count": null,
   "metadata": {},
   "outputs": [],
   "source": [
    "from tensorflow.keras.callbacks import EarlyStopping, ModelCheckpoint\n",
    "keras_callbacks   = [\n",
    "      EarlyStopping(monitor='val_loss', patience=30, mode='min', min_delta=0.0001),\n",
    "      ModelCheckpoint(checkpoint_path, monitor='val_loss', save_best_only=True, mode='min')\n",
    "]\n",
    "model.fit(x_train, y_train,\n",
    "          batch_size=batch_size,\n",
    "          epochs=epochs,\n",
    "          validation_split=0.2, \n",
    "          callbacks=keras_callbacks)\n"
   ]
  }
 ],
 "metadata": {
  "hide_input": false,
  "kernelspec": {
   "display_name": "Python 3",
   "language": "python",
   "name": "python3"
  },
  "language_info": {
   "codemirror_mode": {
    "name": "ipython",
    "version": 3
   },
   "file_extension": ".py",
   "mimetype": "text/x-python",
   "name": "python",
   "nbconvert_exporter": "python",
   "pygments_lexer": "ipython3",
   "version": "3.6.9"
  },
  "toc": {
   "base_numbering": 1,
   "nav_menu": {},
   "number_sections": true,
   "sideBar": true,
   "skip_h1_title": false,
   "title_cell": "Table of Contents",
   "title_sidebar": "Contents",
   "toc_cell": false,
   "toc_position": {},
   "toc_section_display": true,
   "toc_window_display": false
  }
 },
 "nbformat": 4,
 "nbformat_minor": 4
}
