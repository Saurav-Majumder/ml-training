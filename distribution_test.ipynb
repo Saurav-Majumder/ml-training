{
 "cells": [
  {
   "cell_type": "markdown",
   "metadata": {},
   "source": [
    "# Simulation\n",
    "\n",
    "Simulation might be useful in several ways. It is a tool to generate data for our analysis. Thus, we can use it to either filling missing information or generate more data. By simulating data with a similar distribution, we are able to represent more accuratly the reality.  \n",
    "\n",
    "We are going to use numpy to simulate continuous distributions. \n",
    "You can check the distributions that you can simulate with: \n",
    "- [numpy](https://docs.scipy.org/doc/numpy-1.16.0/reference/routines.random.html). \n",
    "- [spacy](https://docs.scipy.org/doc/scipy/reference/tutorial/stats.html) \n",
    "\n",
    "You can find more examples [here](https://bigdata-madesimple.com/how-to-implement-these-5-powerful-probability-distributions-in-python/). "
   ]
  },
  {
   "cell_type": "markdown",
   "metadata": {},
   "source": [
    "First of all, we need to set a value for the seed, so each time we get the same random numbers."
   ]
  },
  {
   "cell_type": "code",
   "execution_count": 1,
   "metadata": {},
   "outputs": [],
   "source": [
    "import numpy as np\n",
    "np.random.seed(seed=101)"
   ]
  },
  {
   "cell_type": "markdown",
   "metadata": {},
   "source": [
    "## Normal distribution\n",
    "A normal distribution is symmetric about the mean, where data near the mean is more frequent in occurrence than data far from the mean. It has a bell shape. In order to create a normal distribution we need the value for the mean and the standard deviation.   \n",
    "\n",
    "In this example, we are going to use the iris data from the library sklearn. And we are going to simulate the distribution for one of the columns: 'sepal width (cm)'."
   ]
  },
  {
   "cell_type": "markdown",
   "metadata": {},
   "source": [
    "Load the data iris from sklearn.datasets and show the columns' names "
   ]
  },
  {
   "cell_type": "code",
   "execution_count": 46,
   "metadata": {},
   "outputs": [
    {
     "data": {
      "text/plain": [
       "Index(['sepal length (cm)', 'sepal width (cm)', 'petal length (cm)',\n",
       "       'petal width (cm)'],\n",
       "      dtype='object')"
      ]
     },
     "execution_count": 46,
     "metadata": {},
     "output_type": "execute_result"
    }
   ],
   "source": [
    "from sklearn.datasets import load_iris\n",
    "import pandas as pd\n",
    "\n",
    "data = load_iris()\n",
    "df = pd.DataFrame(data.data, columns=data.feature_names)\n",
    "df.columns"
   ]
  },
  {
   "cell_type": "markdown",
   "metadata": {},
   "source": [
    "Let's visualize the histogram for 'sepal width (cm)' variable"
   ]
  },
  {
   "cell_type": "code",
   "execution_count": 47,
   "metadata": {},
   "outputs": [
    {
     "data": {
      "image/png": "[encoded data removed]",
      "text/plain": [
       "<Figure size 432x288 with 1 Axes>"
      ]
     },
     "metadata": {
      "needs_background": "light"
     },
     "output_type": "display_data"
    }
   ],
   "source": [
    "import matplotlib.pyplot as plt\n",
    "plt.hist(df['sepal width (cm)'])\n",
    "plt.title('sepal width (cm)')\n",
    "plt.show()"
   ]
  },
  {
   "cell_type": "markdown",
   "metadata": {},
   "source": [
    "As we can see in the graph, the shape is similar to a normal distribution. So, we are goin got simulate it and plot both distributions to compare them."
   ]
  },
  {
   "cell_type": "code",
   "execution_count": 48,
   "metadata": {},
   "outputs": [
    {
     "data": {
      "image/png": "[encoded data removed]",
      "text/plain": [
       "<Figure size 432x288 with 2 Axes>"
      ]
     },
     "metadata": {
      "needs_background": "light"
     },
     "output_type": "display_data"
    }
   ],
   "source": [
    "mu, sigma = df['sepal width (cm)'].mean(), df['sepal width (cm)'].std() # mean and standard deviation\n",
    "s = np.random.normal(mu, sigma, df['sepal width (cm)'].shape[0])\n",
    "\n",
    "n_bins = 10\n",
    "fig, axs = plt.subplots(1, 2, sharey=True, tight_layout=True)\n",
    "axs[0].hist(df['sepal width (cm)'], bins=n_bins)\n",
    "axs[0].set_title('original')\n",
    "axs[1].hist(s, bins=n_bins)\n",
    "axs[1].set_title('simulated')\n",
    "plt.show()"
   ]
  },
  {
   "cell_type": "markdown",
   "metadata": {},
   "source": [
    "Great! They are pretty similar! Now, if we want to choose a random number from the distribution, we can use random.choice function. "
   ]
  },
  {
   "cell_type": "code",
   "execution_count": 9,
   "metadata": {},
   "outputs": [
    {
     "data": {
      "text/plain": [
       "3.276933992907332"
      ]
     },
     "execution_count": 9,
     "metadata": {},
     "output_type": "execute_result"
    }
   ],
   "source": [
    "np.random.choice(s)"
   ]
  },
  {
   "cell_type": "markdown",
   "metadata": {},
   "source": [
    "## Truncated normal\n",
    "\n",
    "A truncated normal distribution is a variation of the normal distribution, but the random variables are bound from either below or above, or both. We are going to use for this example, the boston data from sklearn library. Specially we are going to simulate values for 'DIS' variable.    \n",
    "\n",
    "So, First load the data and show the columns. "
   ]
  },
  {
   "cell_type": "code",
   "execution_count": 50,
   "metadata": {},
   "outputs": [
    {
     "data": {
      "text/plain": [
       "Index(['CRIM', 'ZN', 'INDUS', 'CHAS', 'NOX', 'RM', 'AGE', 'DIS', 'RAD', 'TAX',\n",
       "       'PTRATIO', 'B', 'LSTAT'],\n",
       "      dtype='object')"
      ]
     },
     "execution_count": 50,
     "metadata": {},
     "output_type": "execute_result"
    }
   ],
   "source": [
    "from sklearn.datasets import load_boston\n",
    "data = load_boston(return_X_y=False)\n",
    "df = pd.DataFrame(data.data, columns=data.feature_names)\n",
    "df.columns"
   ]
  },
  {
   "cell_type": "markdown",
   "metadata": {},
   "source": [
    "Plot the historgram for the variable 'DIS'. And print the values for min, max, mean, and standard deviation."
   ]
  },
  {
   "cell_type": "code",
   "execution_count": 261,
   "metadata": {},
   "outputs": [
    {
     "data": {
      "image/png": "[encoded data removed]",
      "text/plain": [
       "<Figure size 432x288 with 1 Axes>"
      ]
     },
     "metadata": {
      "needs_background": "light"
     },
     "output_type": "display_data"
    },
    {
     "name": "stdout",
     "output_type": "stream",
     "text": [
      "Mean: 3.795042687747034 Standar deviation: 2.1057101266276104 Min: 1.1296 Max: 12.1265 Size: 506\n"
     ]
    }
   ],
   "source": [
    "plt.hist(df['DIS'])\n",
    "plt.title('DIS')\n",
    "plt.show()\n",
    "print('Mean:', df['DIS'].mean(), 'Standar deviation:', df['DIS'].std(), 'Min:', df['DIS'].min(), 'Max:', df['DIS'].max(), 'Size:', df['DIS'].shape[0])"
   ]
  },
  {
   "cell_type": "markdown",
   "metadata": {},
   "source": [
    "Simulate with a normal distribution and a truncated normal distribution the values for this variable. Compare them in a graph agains the original values."
   ]
  },
  {
   "cell_type": "code",
   "execution_count": 300,
   "metadata": {},
   "outputs": [
    {
     "data": {
      "image/png": "[encoded data removed]",
      "text/plain": [
       "<Figure size 432x288 with 3 Axes>"
      ]
     },
     "metadata": {
      "needs_background": "light"
     },
     "output_type": "display_data"
    }
   ],
   "source": [
    "import scipy.stats as stats\n",
    "import math\n",
    "\n",
    "lower, upper = df['DIS'].min(), df['DIS'].max()\n",
    "mu, sigma = df['DIS'].mean(), df['DIS'].std()\n",
    "a = (lower - mu) / sigma\n",
    "\n",
    "s = np.random.normal(mu, sigma, df['DIS'].shape[0])\n",
    "X = stats.truncnorm(lower,np.inf, loc=mu, scale=sigma)\n",
    "\n",
    "fig, ax = plt.subplots(1, 3, sharey=True)\n",
    "ax[0].hist(df['DIS'], bins=10)\n",
    "ax[0].set_title('original')\n",
    "ax[1].hist(s, bins=10)\n",
    "ax[1].set_title('normal')\n",
    "ax[2].hist(X.rvs(df['DIS'].shape[0])-mu, bins=10)\n",
    "ax[2].set_title('truncated normal')\n",
    "plt.show()"
   ]
  }
 ],
 "metadata": {
  "hide_input": false,
  "kernelspec": {
   "display_name": "Python 3",
   "language": "python",
   "name": "python3"
  },
  "language_info": {
   "codemirror_mode": {
    "name": "ipython",
    "version": 3
   },
   "file_extension": ".py",
   "mimetype": "text/x-python",
   "name": "python",
   "nbconvert_exporter": "python",
   "pygments_lexer": "ipython3",
   "version": "3.7.5"
  },
  "toc": {
   "base_numbering": 1,
   "nav_menu": {},
   "number_sections": false,
   "sideBar": true,
   "skip_h1_title": false,
   "title_cell": "Table of Contents",
   "title_sidebar": "Contents",
   "toc_cell": false,
   "toc_position": {},
   "toc_section_display": true,
   "toc_window_display": true
  }
 },
 "nbformat": 4,
 "nbformat_minor": 4
}
